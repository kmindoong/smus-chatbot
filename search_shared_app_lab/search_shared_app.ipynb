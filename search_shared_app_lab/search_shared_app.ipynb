{
 "cells": [
  {
   "cell_type": "markdown",
   "metadata": {},
   "source": [
    "# AWS DataZone의 REST API를 직접 호출하여 공유된 App 리스트 조회\n",
    "- SMUS 공유된 App 화면의 경우 https://datazone.ap-northeast-2.api.aws/v2/domains/dzd-cjvglgj4d43fmg/listings/search 에 attribute:\"typeName\",value:\"BedrockPromptAssetType\" 페이로드를 이용해서 도메인 내 모든 BedrockPromptAssetType을 가져옴.\n",
    "\n",
    "- 그리고, https://datazone.ap-northeast-2.api.aws/v2/domains/dzd-cjvglgj4d43fmg/subscriptions 에 owningUserId:\"2e2de543-52bd-4110-95c9-a8eda4a20ffb\", status:\"APPROVED\" 페이로드를 이용해서 특정 User(owningUserId)에게 APPROVED된 subscription(사용자가 어떤 Listing을 구독하면, 시스템이 각 구독 요청마다 고유 ID를 생성)을 가져옴\n",
    "\n",
    "- 두 가지를 조합하면 특정 사용자에게 승인된 BedrockPromptAssetType를 가져올 수 있음.\n",
    "\n",
    "- 다만, https://datazone.ap-northeast-2.api.aws/v2/domains/dzd-cjvglgj4d43fmg/listings/search 의 경우 AWS Python SDK에서 search_listing 메서드를 사용해서 가져 올 수 있으나, https://datazone.ap-northeast-2.api.aws/v2/domains/dzd-cjvglgj4d43fmg/subscriptions 이 API의 경우 AWS Python SDK에 특정 User(owningUserId) 기준으로 가져 올 수 있는 메서드를 제공하고 있지 않음.\n",
    "\n",
    "- 결론적으로 https://datazone.ap-northeast-2.api.aws/v2/domains/dzd-cjvglgj4d43fmg/subscriptions API를 조회 후 필터링하여 BedrockPromptAssetType 만 조회하도록 구현"
   ]
  },
  {
   "cell_type": "markdown",
   "metadata": {},
   "source": [
    "### 먼저, SMUS 도메인 내에 등록된 사용자 이름을 기준으로 UserID 찾기"
   ]
  },
  {
   "cell_type": "code",
   "execution_count": 2,
   "metadata": {},
   "outputs": [
    {
     "name": "stdout",
     "output_type": "stream",
     "text": [
      "UserId: 2e2de543-52bd-4110-95c9-a8eda4a20ffb\n",
      "IAM ARN: arn:aws:iam::533616270150:user/jh.bae@sk.com\n",
      "Status: ACTIVATED\n"
     ]
    }
   ],
   "source": [
    "import boto3\n",
    "\n",
    "region = \"ap-northeast-2\"\n",
    "client = boto3.client(\"datazone\", region_name=region)\n",
    "\n",
    "domain_id = \"dzd-cjvglgj4d43fmg\"\n",
    "user_type = \"DATAZONE_IAM_USER\"  # DataZone에서 IAM 사용자\n",
    "search_text = \"jh.bae@sk.com\"  # ARN에서 사용자 이름 추출 (SK E&S의 경우 사번으로 예:AC135)\n",
    "\n",
    "response = client.search_user_profiles(\n",
    "    domainIdentifier=domain_id,\n",
    "    userType=user_type,\n",
    "    searchText=search_text\n",
    ")\n",
    "\n",
    "items = response.get(\"items\", [])\n",
    "for user in items:\n",
    "    print(\"UserId:\", user[\"id\"])\n",
    "    print(\"IAM ARN:\", user[\"details\"][\"iam\"][\"arn\"])\n",
    "    print(\"Status:\", user[\"status\"])\n"
   ]
  },
  {
   "cell_type": "markdown",
   "metadata": {},
   "source": [
    "### 위에서 찾은 UserId 기준으로 해당 UserId에 공유된(승인된) App(BedrockChatAssetType) 조회"
   ]
  },
  {
   "cell_type": "code",
   "execution_count": 3,
   "metadata": {},
   "outputs": [
    {
     "name": "stdout",
     "output_type": "stream",
     "text": [
      "[\n",
      "    {\n",
      "        \"createdAt\": 1761634927.483,\n",
      "        \"createdBy\": \"SYSTEM\",\n",
      "        \"domainId\": \"dzd-cjvglgj4d43fmg\",\n",
      "        \"id\": \"4yb3k4reb1q0pk\",\n",
      "        \"pushedSubscription\": true,\n",
      "        \"status\": \"APPROVED\",\n",
      "        \"subscribedListing\": {\n",
      "            \"description\": \"\",\n",
      "            \"id\": \"6ik8dtf37ip9co\",\n",
      "            \"item\": {\n",
      "                \"assetListing\": {\n",
      "                    \"entityId\": \"asbgk8ax1c03a0\",\n",
      "                    \"entityRevision\": \"1\",\n",
      "                    \"entityType\": \"BedrockChatAssetType\",\n",
      "                    \"forms\": \"{\\\"DZ_Internal_Basic_Form\\\":{\\\"name\\\":\\\"dataassettestagent\\\",\\\"description\\\":\\\"\\\"}}\",\n",
      "                    \"glossaryTerms\": []\n",
      "                }\n",
      "            },\n",
      "            \"name\": \"dataassettestagent\",\n",
      "            \"ownerProjectId\": \"bknisgxzopjuhk\",\n",
      "            \"ownerProjectName\": \"My_Project_mgouoova\",\n",
      "            \"revision\": \"2\"\n",
      "        },\n",
      "        \"subscribedPrincipal\": {\n",
      "            \"user\": {\n",
      "                \"details\": {\n",
      "                    \"sso\": {}\n",
      "                },\n",
      "                \"id\": \"2e2de543-52bd-4110-95c9-a8eda4a20ffb\"\n",
      "            }\n",
      "        },\n",
      "        \"subscriptionRequestId\": \"4asmx2cygi1guw\",\n",
      "        \"updatedAt\": 1761634927.483,\n",
      "        \"updatedBy\": \"SYSTEM\"\n",
      "    }\n",
      "]\n"
     ]
    }
   ],
   "source": [
    "import boto3\n",
    "from requests_aws4auth import AWS4Auth\n",
    "import requests\n",
    "import json\n",
    "\n",
    "region = \"ap-northeast-2\"\n",
    "service = \"datazone\"\n",
    "\n",
    "session = boto3.Session()\n",
    "credentials = session.get_credentials().get_frozen_credentials()\n",
    "\n",
    "auth = AWS4Auth(\n",
    "    credentials.access_key,\n",
    "    credentials.secret_key,\n",
    "    region,\n",
    "    service,\n",
    "    session_token=credentials.token\n",
    ")\n",
    "\n",
    "url = f\"https://datazone.{region}.api.aws/v2/domains/dzd-cjvglgj4d43fmg/subscriptions\"\n",
    "params = {\n",
    "    \"owningUserId\": user[\"id\"],\n",
    "    \"status\": \"APPROVED\"\n",
    "}\n",
    "\n",
    "response = requests.get(url, auth=auth, params=params)\n",
    "\n",
    "if response.status_code == 200:\n",
    "    all_data = response.json()\n",
    "    # BedrockChatAssetType만 필터링\n",
    "    chat_assets = [\n",
    "        item for item in all_data.get(\"items\", [])\n",
    "        if item.get(\"subscribedListing\", {}).get(\"item\", {}).get(\"assetListing\", {}).get(\"entityType\") == \"BedrockChatAssetType\"\n",
    "    ]\n",
    "    print(json.dumps(chat_assets, indent=4))  # 보기 좋게 출력\n",
    "else:\n",
    "    print(f\"Error {response.status_code}: {response.text}\")\n"
   ]
  }
 ],
 "metadata": {
  "kernelspec": {
   "display_name": "Python 3",
   "language": "python",
   "name": "python3"
  },
  "language_info": {
   "codemirror_mode": {
    "name": "ipython",
    "version": 3
   },
   "file_extension": ".py",
   "mimetype": "text/x-python",
   "name": "python",
   "nbconvert_exporter": "python",
   "pygments_lexer": "ipython3",
   "version": "3.12.4"
  }
 },
 "nbformat": 4,
 "nbformat_minor": 2
}
