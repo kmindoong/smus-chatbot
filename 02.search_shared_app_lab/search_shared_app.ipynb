{
 "cells": [
  {
   "cell_type": "markdown",
   "metadata": {},
   "source": [
    "# AWS DataZone의 REST API를 직접 호출하여 공유된 App 리스트 조회\n",
    "- SMUS 공유된 App 화면의 경우 https://datazone.ap-northeast-2.api.aws/v2/domains/dzd-cjvglgj4d43fmg/listings/search 에 attribute:\"typeName\",value:\"BedrockPromptAssetType\" 페이로드를 이용해서 도메인 내 모든 BedrockPromptAssetType을 가져옴.\n",
    "\n",
    "- 그리고, https://datazone.ap-northeast-2.api.aws/v2/domains/dzd-cjvglgj4d43fmg/subscriptions 에 owningUserId:\"2e2de543-52bd-4110-95c9-a8eda4a20ffb\", status:\"APPROVED\" 페이로드를 이용해서 특정 User(owningUserId)에게 APPROVED된 subscription(사용자가 어떤 Listing을 구독하면, 시스템이 각 구독 요청마다 고유 ID를 생성)을 가져옴\n",
    "\n",
    "- 두 가지를 조합하면 특정 사용자에게 승인된 BedrockPromptAssetType를 가져올 수 있음.\n",
    "\n",
    "- 다만, https://datazone.ap-northeast-2.api.aws/v2/domains/dzd-cjvglgj4d43fmg/listings/search 의 경우 AWS Python SDK에서 search_listing 메서드를 사용해서 가져 올 수 있으나, https://datazone.ap-northeast-2.api.aws/v2/domains/dzd-cjvglgj4d43fmg/subscriptions 이 API의 경우 AWS Python SDK에 특정 User(owningUserId) 기준으로 가져 올 수 있는 메서드를 제공하고 있지 않음.\n",
    "\n",
    "- 결론적으로 https://datazone.ap-northeast-2.api.aws/v2/domains/dzd-cjvglgj4d43fmg/subscriptions API를 조회 후 필터링하여 BedrockPromptAssetType 만 조회하도록 구현"
   ]
  },
  {
   "cell_type": "markdown",
   "metadata": {},
   "source": [
    "### 공통 설정"
   ]
  },
  {
   "cell_type": "code",
   "execution_count": 1,
   "metadata": {},
   "outputs": [],
   "source": [
    "import boto3\n",
    "import json\n",
    "from requests_aws4auth import AWS4Auth\n",
    "import requests\n",
    "\n",
    "region = \"ap-northeast-2\"\n",
    "domain_id = \"dzd-cjvglgj4d43fmg\"\n",
    "user_email = \"jh.bae@sk.com\"\n",
    "\n",
    "# Boto3 세션 & 인증\n",
    "session = boto3.Session()\n",
    "credentials = session.get_credentials().get_frozen_credentials()\n",
    "\n",
    "auth = AWS4Auth(\n",
    "    credentials.access_key,\n",
    "    credentials.secret_key,\n",
    "    region,\n",
    "    \"datazone\",\n",
    "    session_token=credentials.token\n",
    ")\n"
   ]
  },
  {
   "cell_type": "markdown",
   "metadata": {},
   "source": [
    "### 특정 사용자의 정보(현 예시는 iam계정이름)를 기반으로 SMUS 사용자 ID(ex:user-xxx-xxxxxxx-xxxx-xxxx) 조회"
   ]
  },
  {
   "cell_type": "code",
   "execution_count": 2,
   "metadata": {},
   "outputs": [
    {
     "name": "stdout",
     "output_type": "stream",
     "text": [
      "UserId: 2e2de543-52bd-4110-95c9-a8eda4a20ffb\n",
      "IAM ARN: arn:aws:iam::533616270150:user/jh.bae@sk.com\n",
      "Status: ACTIVATED\n"
     ]
    }
   ],
   "source": [
    "client = boto3.client(\"datazone\", region_name=region)\n",
    "\n",
    "response = client.search_user_profiles(\n",
    "    domainIdentifier=domain_id,\n",
    "    userType=\"DATAZONE_IAM_USER\",\n",
    "    searchText=user_email\n",
    ")\n",
    "\n",
    "items = response.get(\"items\", [])\n",
    "if not items:\n",
    "    raise ValueError(f\"{user_email} 사용자를 찾을 수 없음\")\n",
    "\n",
    "user_id = items[0][\"id\"]\n",
    "iam_arn = items[0][\"details\"][\"iam\"][\"arn\"]\n",
    "status = items[0][\"status\"]\n",
    "\n",
    "print(f\"UserId: {user_id}\\nIAM ARN: {iam_arn}\\nStatus: {status}\")\n"
   ]
  },
  {
   "cell_type": "markdown",
   "metadata": {},
   "source": [
    "### 사용자 구독 Bedrock Chat Assets 조회"
   ]
  },
  {
   "cell_type": "code",
   "execution_count": 3,
   "metadata": {},
   "outputs": [
    {
     "name": "stdout",
     "output_type": "stream",
     "text": [
      "✅ Bedrock Chat Assets Mapping:\n",
      "{\n",
      "    \"dataassettestagent\": {\n",
      "        \"listing_id\": \"6ik8dtf37ip9co\"\n",
      "    },\n",
      "    \"Untitled App - wvstb\": {\n",
      "        \"listing_id\": \"cz0wnjp047y97c\"\n",
      "    }\n",
      "}\n"
     ]
    }
   ],
   "source": [
    "url = f\"https://datazone.{region}.api.aws/v2/domains/{domain_id}/subscriptions\"\n",
    "params = {\n",
    "    \"owningUserId\": user_id,\n",
    "    \"status\": \"APPROVED\"\n",
    "}\n",
    "\n",
    "response = requests.get(url, auth=auth, params=params)\n",
    "response.raise_for_status()\n",
    "all_data = response.json()\n",
    "\n",
    "# BedrockChatAssetType만 필터링\n",
    "bedrock_chat_assets = [\n",
    "    item for item in all_data.get(\"items\", [])\n",
    "    if item.get(\"subscribedListing\", {}).get(\"item\", {}).get(\"assetListing\", {}).get(\"entityType\") == \"BedrockChatAssetType\"\n",
    "]\n",
    "\n",
    "agent_mapping = {}\n",
    "for asset in bedrock_chat_assets:\n",
    "    listing_id = asset[\"subscribedListing\"][\"id\"]\n",
    "    listing_name = asset[\"subscribedListing\"][\"name\"]\n",
    "    agent_mapping[listing_name] = {\"listing_id\": listing_id}\n",
    "\n",
    "print(\"✅ Bedrock Chat Assets Mapping:\")\n",
    "print(json.dumps(agent_mapping, indent=4))\n"
   ]
  },
  {
   "cell_type": "markdown",
   "metadata": {},
   "source": [
    "### Alias ID & Environment ID 조회"
   ]
  },
  {
   "cell_type": "code",
   "execution_count": 4,
   "metadata": {},
   "outputs": [
    {
     "name": "stdout",
     "output_type": "stream",
     "text": [
      "✅ Alias & Environment Mapping:\n",
      "{\n",
      "    \"dataassettestagent\": {\n",
      "        \"listing_id\": \"6ik8dtf37ip9co\",\n",
      "        \"alias_id\": \"NL5VG2E22Y\",\n",
      "        \"environment_id\": \"cfpk72y5uyr7dk\"\n",
      "    },\n",
      "    \"Untitled App - wvstb\": {\n",
      "        \"listing_id\": \"cz0wnjp047y97c\",\n",
      "        \"alias_id\": \"N8ZYB1DCST\",\n",
      "        \"environment_id\": \"619j2m0x33e848\"\n",
      "    }\n",
      "}\n"
     ]
    }
   ],
   "source": [
    "for agent_name, info in agent_mapping.items():\n",
    "    listing_id = info[\"listing_id\"]\n",
    "    url = f\"https://datazone.{region}.api.aws/v2/domains/{domain_id}/listings/{listing_id}\"\n",
    "    response = requests.get(url, auth=auth)\n",
    "    response.raise_for_status()\n",
    "    data = response.json()\n",
    "\n",
    "    forms_str = data[\"item\"][\"assetListing\"].get(\"forms\", \"{}\")\n",
    "    forms = json.loads(forms_str)\n",
    "    bedrock_form = forms.get(\"BedrockAppCommonForm\", {})\n",
    "\n",
    "    alias_id = bedrock_form.get(\"sharedAliasOrVersion\")\n",
    "    env_id = bedrock_form.get(\"environmentId\")\n",
    "\n",
    "    agent_mapping[agent_name][\"alias_id\"] = alias_id\n",
    "    agent_mapping[agent_name][\"environment_id\"] = env_id\n",
    "\n",
    "print(\"✅ Alias & Environment Mapping:\")\n",
    "print(json.dumps(agent_mapping, indent=4))\n"
   ]
  },
  {
   "cell_type": "markdown",
   "metadata": {},
   "source": [
    "### SMUS내에서 생성된 Bedrock Agent는 모두 Bedrock-Agent-{Environment ID} 형식으로 생성되며, 해당 이름을 기준으로  Bedrock Agent ID 조회하고 Alias ID까지 맵핑 (실제 Agent 호출 시 AgentID와 AliasID가 필요하기 때문)"
   ]
  },
  {
   "cell_type": "code",
   "execution_count": 5,
   "metadata": {},
   "outputs": [
    {
     "name": "stdout",
     "output_type": "stream",
     "text": [
      "\n",
      "=== ✅ 최종 Agent Mapping ===\n",
      "{\n",
      "    \"dataassettestagent\": {\n",
      "        \"listing_id\": \"6ik8dtf37ip9co\",\n",
      "        \"alias_id\": \"NL5VG2E22Y\",\n",
      "        \"agent_id\": \"JKFP4XB9AO\"\n",
      "    },\n",
      "    \"Untitled App - wvstb\": {\n",
      "        \"listing_id\": \"cz0wnjp047y97c\",\n",
      "        \"alias_id\": \"N8ZYB1DCST\",\n",
      "        \"agent_id\": \"0LPVTFQAEB\"\n",
      "    }\n",
      "}\n"
     ]
    }
   ],
   "source": [
    "bedrock_client = boto3.client(\"bedrock-agent\", region_name=region)\n",
    "\n",
    "# 전체 에이전트 조회\n",
    "agents = []\n",
    "next_token = None\n",
    "while True:\n",
    "    params = {\"maxResults\": 20}\n",
    "    if next_token:\n",
    "        params[\"nextToken\"] = next_token\n",
    "\n",
    "    resp = bedrock_client.list_agents(**params)\n",
    "    agents.extend(resp.get(\"agentSummaries\", []))\n",
    "    next_token = resp.get(\"nextToken\")\n",
    "    if not next_token:\n",
    "        break\n",
    "\n",
    "# environment_id 기준으로 agent_id 매핑\n",
    "for agent_name, info in agent_mapping.items():\n",
    "    env_id = info.get(\"environment_id\")\n",
    "    expected_name = f\"Bedrock-Agent-{env_id}\"\n",
    "    found_agent = next((a for a in agents if a[\"agentName\"] == expected_name), None)\n",
    "    if found_agent:\n",
    "        agent_mapping[agent_name][\"agent_id\"] = found_agent[\"agentId\"]\n",
    "    else:\n",
    "        agent_mapping[agent_name][\"agent_id\"] = None\n",
    "        print(f\"⚠️ {expected_name} 에 해당하는 에이전트 없음\")\n",
    "\n",
    "# 불필요한 environment_id 제거\n",
    "for info in agent_mapping.values():\n",
    "    info.pop(\"environment_id\", None)\n",
    "\n",
    "print(\"\\n=== ✅ 최종 Agent Mapping ===\")\n",
    "print(json.dumps(agent_mapping, indent=4))\n"
   ]
  }
 ],
 "metadata": {
  "kernelspec": {
   "display_name": "Python 3",
   "language": "python",
   "name": "python3"
  },
  "language_info": {
   "codemirror_mode": {
    "name": "ipython",
    "version": 3
   },
   "file_extension": ".py",
   "mimetype": "text/x-python",
   "name": "python",
   "nbconvert_exporter": "python",
   "pygments_lexer": "ipython3",
   "version": "3.12.4"
  }
 },
 "nbformat": 4,
 "nbformat_minor": 2
}
